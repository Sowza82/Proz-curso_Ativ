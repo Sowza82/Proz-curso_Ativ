{
  "nbformat": 4,
  "nbformat_minor": 0,
  "metadata": {
    "colab": {
      "provenance": [],
      "authorship_tag": "ABX9TyPmht/ZHONCrwnAREJcacx5",
      "include_colab_link": true
    },
    "kernelspec": {
      "name": "python3",
      "display_name": "Python 3"
    },
    "language_info": {
      "name": "python"
    }
  },
  "cells": [
    {
      "cell_type": "markdown",
      "metadata": {
        "id": "view-in-github",
        "colab_type": "text"
      },
      "source": [
        "<a href=\"https://colab.research.google.com/github/Sowza82/Sowza82/blob/main/aula_array4.ipynb\" target=\"_parent\"><img src=\"https://colab.research.google.com/assets/colab-badge.svg\" alt=\"Open In Colab\"/></a>"
      ]
    },
    {
      "cell_type": "markdown",
      "source": [
        "# Aula 7-**Arrays**"
      ],
      "metadata": {
        "id": "FsBVgiSPErQs"
      }
    },
    {
      "source": [
        "def achar_elemento(arr):\n",
        "  aachou = False\n",
        "  cumprimento = len(arr)\n",
        "  for i in range(cumprimento):\n",
        "    print(arr[i])\n",
        "\n",
        "ordem = ['Primeiro', 'Segundo', 'Terceiro']\n",
        "achar_elemento(ordem)"
      ],
      "cell_type": "code",
      "metadata": {
        "colab": {
          "base_uri": "https://localhost:8080/"
        },
        "id": "bAjyl8JsQq4W",
        "outputId": "fa73053e-80ad-478b-e21a-b7fc64c038d6"
      },
      "execution_count": 22,
      "outputs": [
        {
          "output_type": "stream",
          "name": "stdout",
          "text": [
            "Primeiro\n",
            "Segundo\n",
            "Terceiro\n"
          ]
        }
      ]
    },
    {
      "cell_type": "code",
      "source": [
        "def achar_elemento( elem,arr):\n",
        "  aachou = False\n",
        "  cumprimento = len(arr)\n",
        "\n",
        "  for i in range(cumprimento):\n",
        "    if(arr[i] == elem):\n",
        "      achou = True\n",
        "\n",
        "\n",
        "  if(achou == True):\n",
        "    print(\"Achei o nome:\" + elem)\n",
        "  else:\n",
        "    print (\"Não achei o nome:\" + elem)\n",
        "\n",
        "nomes= ['Tay','Nyne','Loby','Maria']\n",
        "achar_elemento('Loby',nomes)\n"
      ],
      "metadata": {
        "colab": {
          "base_uri": "https://localhost:8080/"
        },
        "id": "YOQu0VmgQ3BR",
        "outputId": "c6faf8c9-d06b-4e36-9a5f-e50607157d03"
      },
      "execution_count": 33,
      "outputs": [
        {
          "output_type": "stream",
          "name": "stdout",
          "text": [
            "Achei o nome:Loby\n"
          ]
        }
      ]
    },
    {
      "source": [
        "def achar_elemento(elem, arr):\n",
        "  achou = False\n",
        "  cumprimento = len(arr)\n",
        "\n",
        "  for i in range(cumprimento):\n",
        "    if(arr[i] == elem):\n",
        "      achou = True\n",
        "\n",
        "  if(achou == True):\n",
        "    print(\"Achei o nome:\" + elem)\n",
        "  else:\n",
        "    print (\"Não achei o nome:\" + elem)\n",
        "\n",
        "nomes= ['Tay','Nyne','Loby','Maria']\n",
        "achar_elemento('Mary',nomes)"
      ],
      "cell_type": "code",
      "metadata": {
        "colab": {
          "base_uri": "https://localhost:8080/"
        },
        "id": "NCCt0V9PUpDB",
        "outputId": "6a8840a6-203d-42be-eaa7-8fc0027e1d08"
      },
      "execution_count": 34,
      "outputs": [
        {
          "output_type": "stream",
          "name": "stdout",
          "text": [
            "Não achei o nome:Mary\n"
          ]
        }
      ]
    }
  ]
}