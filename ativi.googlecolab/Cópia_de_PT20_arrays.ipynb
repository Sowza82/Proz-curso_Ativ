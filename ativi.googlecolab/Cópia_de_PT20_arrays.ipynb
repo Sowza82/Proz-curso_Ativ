{
  "nbformat": 4,
  "nbformat_minor": 0,
  "metadata": {
    "colab": {
      "provenance": [],
      "include_colab_link": true
    },
    "kernelspec": {
      "name": "python3",
      "display_name": "Python 3"
    },
    "language_info": {
      "name": "python"
    }
  },
  "cells": [
    {
      "cell_type": "markdown",
      "metadata": {
        "id": "view-in-github",
        "colab_type": "text"
      },
      "source": [
        "<a href=\"https://colab.research.google.com/github/Sowza82/Sowza82/blob/main/C%C3%B3pia_de_PT20_arrays.ipynb\" target=\"_parent\"><img src=\"https://colab.research.google.com/assets/colab-badge.svg\" alt=\"Open In Colab\"/></a>"
      ]
    },
    {
      "cell_type": "code",
      "execution_count": null,
      "metadata": {
        "id": "-mOIFJr7VJV-"
      },
      "outputs": [],
      "source": [
        "\n",
        "\n",
        "meses = [\"jan\", \"fev\", \"mar\", \"abr\", \"mai\", \"jun\"]\n",
        "\n",
        "mes = \"mar\"\n",
        "\n",
        "#print(\"nada a ver\" in meses)\n",
        "\n",
        "def verificar_elemento(array, elemento):\n",
        "\n",
        "  for i in range(len(meses)):\n",
        "    if array[i] == elemento:\n",
        "      return \"O valor está na lista\"\n",
        "\n",
        "  return \"O valor não está na lista\"\n",
        "\n",
        "\n",
        "print(verificar_elemento(meses, \"jan\"))\n",
        "print(verificar_elemento(meses, \"agosto\"))\n",
        "print(verificar_elemento(meses, mes))\n",
        "print(verificar_elemento(meses, \"jun\"))\n",
        "\n",
        "# Crie uma função que verifica se um array contém um determinado elemento\n",
        "# Desafio 1: retornar o índice do elemento, caso ele esteja no array\n",
        "# Desafio 2: pedir ao usuário um elemento até que ele esteja no array"
      ]
    },
    {
      "cell_type": "code",
      "source": [
        "\n",
        "produto_esta_na_lista = False\n",
        "\n",
        "while not produto_esta_na_lista:\n",
        "  produto = input('digite um produto para verificar se ele estar na lista: ')\n",
        "\n",
        "  produto_esta_na_lista = produto in lista_produtos # True ou False\n",
        "\n",
        "  if produto_esta_na_lista:\n",
        "    print('O produto esta na lista')\n",
        "  else:\n",
        "    print(\"O produto não esta na lista\")"
      ],
      "metadata": {
        "id": "IwcaxKFYjfvp"
      },
      "execution_count": null,
      "outputs": []
    },
    {
      "cell_type": "code",
      "source": [
        "# Criar um sistema de controle de estoque\n",
        "# Funcionalidades: criar produtos, alterar produtos, exibir produtos, remover último produto\n",
        "\n",
        "lista_produtos = ['batons', 'esmaltes', 'perfumes', 'xampus', 'sabonetes', 'delineadores']\n",
        "\n",
        "def criar_produto():\n",
        "  print(\"criado!\")\n",
        "\n",
        "def alterar_produto():\n",
        "  print(\"alterado!\")\n",
        "\n",
        "def exibir_produtos():\n",
        "  print(lista_produtos)\n",
        "\n",
        "def remover_ultimo_produto():\n",
        "  print(\"removido!\")\n",
        "\n",
        "print(\"Programa iniciado!\")\n",
        "print(\"Comandos: 'criar', 'alterar', 'exibir', 'remover ultimo', 'sair' \")\n",
        "\n",
        "programa_encerrado = False\n",
        "\n",
        "while not programa_encerrado:\n",
        "  acao = input(\"O deseja fazer? \")\n",
        "\n",
        "  if acao == 'criar':\n",
        "    criar_produto()\n",
        "\n",
        "  elif acao == 'alterar':\n",
        "    alterar_produto()\n",
        "\n",
        "  elif acao == 'exibir':\n",
        "    exibir_produtos()\n",
        "\n",
        "  elif acao == 'remover ultimo':\n",
        "    remover_ultimo_produto()\n",
        "\n",
        "  elif acao == 'sair':\n",
        "    programa_encerrado = True\n",
        "    print(\"Programa encerrado\")\n",
        "\n",
        "  else:\n",
        "    print(\"Opção inválida. Comandos válidos: 'criar', 'alterar', 'exibir', 'remover ultimo', 'sair' \")\n"
      ],
      "metadata": {
        "colab": {
          "base_uri": "https://localhost:8080/"
        },
        "id": "LjWGO9JxnPyL",
        "outputId": "71b78050-2db0-4d92-f666-6e5532d2e976"
      },
      "execution_count": null,
      "outputs": [
        {
          "output_type": "stream",
          "name": "stdout",
          "text": [
            "Programa iniciado!\n",
            "Comandos: 'criar', 'alterar', 'exibir', 'remover ultimo', 'sair' \n",
            "O deseja fazer? exibir\n",
            "['batons', 'esmaltes', 'perfumes', 'xampus', 'sabonetes', 'delineadores']\n",
            "O deseja fazer? criar\n",
            "criado!\n",
            "O deseja fazer? exibir\n",
            "['batons', 'esmaltes', 'perfumes', 'xampus', 'sabonetes', 'delineadores']\n",
            "O deseja fazer? sair\n",
            "Programa encerrado\n"
          ]
        }
      ]
    },
    {
      "cell_type": "code",
      "source": [],
      "metadata": {
        "id": "EXoVokczxQFW"
      },
      "execution_count": null,
      "outputs": []
    },
    {
      "cell_type": "code",
      "source": [
        "lista_produtos = []\n",
        "\n",
        "def criar_produto():\n",
        "    nome_produto = input(\"Digite o nome do produto: \")\n",
        "\n",
        "    # Verifica se o produto já existe na lista\n",
        "    for produto in lista_produtos:\n",
        "        if produto['nome'] == nome_produto:\n",
        "            print(\"Produto já existe. Use 'alterar' para modificar a quantidade.\")\n",
        "            return\n",
        "\n",
        "    quantidade = int(input(\"Digite a quantidade inicial do produto: \"))\n",
        "    preco_unitario = float(input(\"Digite o preço unitário do produto: \"))\n",
        "\n",
        "    # Cria um dicionário representando o produto e adiciona à lista\n",
        "    produto = {'nome': nome_produto, 'quantidade': quantidade, 'preco_unitario': preco_unitario}\n",
        "    lista_produtos.append(produto)\n",
        "    print(\"Produto criado!\")\n",
        "\n",
        "def alterar_produto():\n",
        "    nome_produto = input(\"Digite o nome do produto que deseja alterar: \")\n",
        "\n",
        "    # Procura o produto na lista\n",
        "    for produto in lista_produtos:\n",
        "        if produto['nome'] == nome_produto:\n",
        "            nova_quantidade = int(input(\"Digite a nova quantidade do produto: \"))\n",
        "            novo_preco_unitario = float(input(\"Digite o novo preço unitário do produto: \"))\n",
        "\n",
        "            produto['quantidade'] = nova_quantidade\n",
        "            produto['preco_unitario'] = novo_preco_unitario\n",
        "            print(\"Produto alterado!\")\n",
        "            return\n",
        "\n",
        "    print(\"Produto não encontrado.\")\n",
        "\n",
        "def exibir_produtos():\n",
        "    if not lista_produtos:\n",
        "        print(\"A lista de produtos está vazia.\")\n",
        "    else:\n",
        "        print(\"Lista de produtos:\")\n",
        "        for produto in lista_produtos:\n",
        "            print(f\"Nome: {produto['nome']}, Quantidade: {produto['quantidade']}, Preço Unitário: {produto['preco_unitario']}\")\n",
        "\n",
        "def remover_ultimo_produto():\n",
        "    if lista_produtos:\n",
        "        produto_removido = lista_produtos.pop()\n",
        "        print(f\"Produto '{produto_removido['nome']}' removido!\")\n",
        "    else:\n",
        "        print(\"A lista de produtos está vazia.\")\n",
        "\n",
        "print(\"Programa iniciado!\")\n",
        "print(\"Comandos: 'criar', 'alterar', 'exibir', 'remover ultimo', 'sair' \")\n",
        "\n",
        "programa_encerrado = False\n",
        "\n",
        "while not programa_encerrado:\n",
        "    acao = input(\"O que deseja fazer? \")\n",
        "\n",
        "    if acao == 'criar':\n",
        "        criar_produto()\n",
        "\n",
        "    elif acao == 'alterar':\n",
        "        alterar_produto()\n",
        "\n",
        "    elif acao == 'exibir':\n",
        "        exibir_produtos()\n",
        "\n",
        "    elif acao == 'remover ultimo':\n",
        "        remover_ultimo_produto()\n",
        "\n",
        "    elif acao == 'sair':\n",
        "        programa_encerrado = True\n",
        "        print(\"Programa encerrado\")\n",
        "\n",
        "    else:\n",
        "        print(\"Opção inválida. Comandos válidos: 'criar', 'alterar', 'exibir', 'remover ultimo', 'sair' \")\n"
      ],
      "metadata": {
        "colab": {
          "base_uri": "https://localhost:8080/"
        },
        "id": "vNFbcZWvwSvE",
        "outputId": "69723faf-8c8c-4dfa-e6ef-72ee9a37b1a7"
      },
      "execution_count": 1,
      "outputs": [
        {
          "output_type": "stream",
          "name": "stdout",
          "text": [
            "Programa iniciado!\n",
            "Comandos: 'criar', 'alterar', 'exibir', 'remover ultimo', 'sair' \n",
            "O que deseja fazer? criar\n",
            "Digite o nome do produto: baton\n",
            "Digite a quantidade inicial do produto: 43\n",
            "Digite o preço unitário do produto: 200\n",
            "Produto criado!\n",
            "O que deseja fazer? exibir\n",
            "Lista de produtos:\n",
            "Nome: baton, Quantidade: 43, Preço Unitário: 200.0\n",
            "O que deseja fazer? sair\n",
            "Programa encerrado\n"
          ]
        }
      ]
    }
  ]
}